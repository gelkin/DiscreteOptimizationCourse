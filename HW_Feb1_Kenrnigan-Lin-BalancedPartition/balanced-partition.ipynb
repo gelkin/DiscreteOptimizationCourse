{
 "cells": [
  {
   "cell_type": "markdown",
   "metadata": {},
   "source": [
    "* Download files mycielX.col  (for X=1,2,…,7) from here: [http://mat.gsia.cmu.edu/COLOR/instances.html]()\n",
    "* For each graph find the perfectly balanced partition (for graphs with odd number of vertices the part sizes will differ by one) using Kernigan—Lin technique. The file parser function is provided below."
   ]
  },
  {
   "cell_type": "code",
   "execution_count": 1,
   "metadata": {
    "collapsed": true
   },
   "outputs": [],
   "source": [
    "def read_col_file(filename):\n",
    "    with open(filename, 'r') as file:\n",
    "        vertices = set()\n",
    "        edges = set()\n",
    "        for line in file:\n",
    "            line = line.strip()\n",
    "            if line.startswith('c'):\n",
    "                continue\n",
    "            elif line.startswith('p'):\n",
    "                tokens = line.split()\n",
    "                n_vertices, n_edges = int(tokens[-2]), int(tokens[-1])\n",
    "                vertices = set(range(1, n_vertices + 1))\n",
    "            elif line.startswith('e'):\n",
    "                tokens = line.split()\n",
    "                edges.add((int(tokens[-2]), int(tokens[-1])))\n",
    "        return (vertices, edges)"
   ]
  },
  {
   "cell_type": "code",
   "execution_count": 2,
   "metadata": {
    "collapsed": false
   },
   "outputs": [
    {
     "name": "stdout",
     "output_type": "stream",
     "text": [
      "({1, 2, 3, 4, 5, 6, 7, 8, 9, 10, 11}, {(1, 2), (4, 10), (5, 9), (2, 6), (10, 11), (4, 6), (4, 5), (2, 8), (3, 10), (6, 11), (8, 11), (1, 4), (9, 11), (2, 3), (1, 9), (7, 11), (1, 7), (3, 7), (5, 8), (3, 5)})\n"
     ]
    }
   ],
   "source": [
    "G = read_col_file(r'myciel3.col')\n",
    "print(G)"
   ]
  },
  {
   "cell_type": "code",
   "execution_count": null,
   "metadata": {
    "collapsed": true
   },
   "outputs": [],
   "source": [
    "def find_balanced_partition(graph):\n",
    "    # your code here, should return one part of the partition as a set, \n",
    "    # e.g. {1,2,3,4,5}, and partition weight (number of edges that go between parts) as an integer\n",
    "    return partition, weight"
   ]
  },
  {
   "cell_type": "code",
   "execution_count": null,
   "metadata": {
    "collapsed": true
   },
   "outputs": [],
   "source": [
    "find_balanced_partition(G)"
   ]
  }
 ],
 "metadata": {
  "kernelspec": {
   "display_name": "Python [default]",
   "language": "python",
   "name": "python3"
  },
  "language_info": {
   "codemirror_mode": {
    "name": "ipython",
    "version": 3.0
   },
   "file_extension": ".py",
   "mimetype": "text/x-python",
   "name": "python",
   "nbconvert_exporter": "python",
   "pygments_lexer": "ipython3",
   "version": "3.5.2"
  }
 },
 "nbformat": 4,
 "nbformat_minor": 0
}